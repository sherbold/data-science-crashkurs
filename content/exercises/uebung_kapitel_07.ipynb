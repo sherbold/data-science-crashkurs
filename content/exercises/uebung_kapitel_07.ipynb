{
 "cells": [
  {
   "cell_type": "markdown",
   "id": "5bfd2361-f61f-4369-bb50-4004381a3885",
   "metadata": {},
   "source": [
    "## Übung zu Kapitel 7\n",
    "\n",
    "In dieser Übung geht es um die praktische Erfahrung mit den Klassifikationsalgorithmen. Hierzu wenden wir die Algorithmen auf einen Datensatz an, vergleichen die Güte und versuchen, gute Parameter zu finden. Letzteres, also die Wahl der Parameter, ist das Wichtigste an dieser Übung: Wie tief sollten Entscheidungsbäume sein, welche Aktivierungsfunktion ist beim MLP gut, wie viele Nachbarn braucht der $k$-Nearest Neighbor und welche Kernfunktion liefert bei der SVM gute Ergebnisse?\n",
    "\n",
    "Für diese Übung benutzen wir [Daten über die Arten von Bäumen in einem Wald aus scikit-learn](https://scikit-learn.org/stable/modules/generated/sklearn.datasets.fetch_covtype.html#sklearn.datasets.fetch_covtype). \n",
    "\n",
    "### Trainings- und Testdaten\n",
    "\n",
    "Laden Sie die Daten. Teilen Sie die Daten so auf, dass Sie 5% der Daten zum Training verwenden und 95% der Daten zum Testen ([Dokumentation](https://scikit-learn.org/stable/modules/generated/sklearn.model_selection.train_test_split.html)). Auch wenn man in der Praxis mehr Daten zum Training nutzen würde, ist die kleinere Trainingsmenge für diese Übung aufgrund der Laufzeit sinnvoller. Verwenden Sie *Stratified Sampling*, um sicherzustellen, dass alle Klassen entsprechend ihrer Verteilung in den Trainings- und Testdaten repräsentiert sind."
   ]
  },
  {
   "cell_type": "code",
   "execution_count": null,
   "id": "2d6a73f2-dfbb-4a20-95fe-65a912e4fb14",
   "metadata": {},
   "outputs": [],
   "source": []
  },
  {
   "cell_type": "markdown",
   "id": "13f0ee21-b65d-4668-bcbe-f0364e16926f",
   "metadata": {},
   "source": [
    "### Trainieren, Testen, Bewerten\n",
    "\n",
    "Nutzen Sie die Trainingsdaten, um die Algorithmen aus diesem Kapitel auszuprobieren. Hierbei werden Sie erhebliche Laufzeitunterschiede feststellen. Einige Algorithmen sind möglicherweise gar nicht für diese Daten geeignet.\n",
    "\n",
    "Finden Sie einen guten Algorithmus für die Daten. Dieser sollte zwei Bedingungen erfüllen:\n",
    "\n",
    "- Das Training und die Vorhersagen sollten in einer akzeptablen Zeit durchführbar sein. Nutzen Sie \"weniger als 10 Minuten\" als Definition von \"akzeptabel\" für diese Übung.\n",
    "- Die Güte, gemessen mit MCC, Recall, Prediction und F1-Score, sollte gut sein.\n",
    "\n",
    "Probieren Sie verschiedene Parameter aus, um die Ergebnisse zu verbessern.\n",
    "\n"
   ]
  },
  {
   "cell_type": "code",
   "execution_count": null,
   "id": "20395183-a024-4fa3-8411-b7e724d91e46",
   "metadata": {},
   "outputs": [],
   "source": []
  },
  {
   "cell_type": "markdown",
   "id": "bae837de-7f1b-480d-8033-e7a1fd1461d0",
   "metadata": {},
   "source": [
    "### Automatische Parameterwahl\n",
    "\n",
    "Sie können gute Parameter auch automatisch bestimmen. Nutzen Sie hierfür die [*Grid Search*](https://scikit-learn.org/stable/modules/grid_search.html), bei der alle Paare von Parametern aus einem vorgegebenen Wertebereich kombiniert werden. Beachten Sie, dass der Aufwand hierbei exponentiell mit der Anzahl der Parameter wächst. Probieren Sie die Grid Search aus, um noch bessere Parameter zu finden, ohne dabei länger als eine Stunde Rechenzeit zu investieren."
   ]
  },
  {
   "cell_type": "code",
   "execution_count": null,
   "id": "ecb51841-c0ee-4dae-a75f-4c00152658b3",
   "metadata": {},
   "outputs": [],
   "source": []
  }
 ],
 "metadata": {
  "kernelspec": {
   "display_name": "Python 3 (ipykernel)",
   "language": "python",
   "name": "python3"
  },
  "language_info": {
   "codemirror_mode": {
    "name": "ipython",
    "version": 3
   },
   "file_extension": ".py",
   "mimetype": "text/x-python",
   "name": "python",
   "nbconvert_exporter": "python",
   "pygments_lexer": "ipython3",
   "version": "3.8.10"
  }
 },
 "nbformat": 4,
 "nbformat_minor": 5
}
