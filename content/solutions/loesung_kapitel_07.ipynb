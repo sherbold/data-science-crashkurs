{
 "cells": [
  {
   "cell_type": "markdown",
   "id": "5bfd2361-f61f-4369-bb50-4004381a3885",
   "metadata": {},
   "source": [
    "## Übung zu Kapitel 7\n",
    "\n",
    "In dieser Übung geht es um die praktische Erfahrung mit den Klassifikationsalgorithmen. Hierzu wenden wir die Algorithmen auf einen Datensatz an, vergleichen die Güte und versuchen, gute Parameter zu finden. Letzteres, also die Wahl der Parameter, ist das Wichtigste an dieser Übung: Wie tief sollten Entscheidungsbäume sein, welche Aktivierungsfunktion ist beim MLP gut, wie viele Nachbarn braucht der $k$-Nearest Neighbor und welche Kernfunktion liefert bei der SVM gute Ergebnisse?\n",
    "\n",
    "Für diese Übung benutzen wir [Daten über die Arten von Bäumen in einem Wald aus scikit-learn](https://scikit-learn.org/stable/modules/generated/sklearn.datasets.fetch_covtype.html#sklearn.datasets.fetch_covtype). \n",
    "\n",
    "### Trainings- und Testdaten\n",
    "\n",
    "Laden Sie die Daten. Teilen Sie die Daten so auf, dass Sie 5% der Daten zum Training verwenden und 95% der Daten zum Testen ([Dokumentation](https://scikit-learn.org/stable/modules/generated/sklearn.model_selection.train_test_split.html)). Auch wenn man in der Praxis mehr Daten zum Training nutzen würde, ist die kleinere Trainingsmenge für diese Übung aufgrund der Laufzeit sinnvoller. Verwenden Sie *Stratified Sampling*, um sicherzustellen, dass alle Klassen entsprechend ihrer Verteilung in den Trainings- und Testdaten repräsentiert sind."
   ]
  },
  {
   "cell_type": "markdown",
   "id": "a7327128-f03a-4029-a048-2a27949ecd5b",
   "metadata": {},
   "source": [
    "Zuerst laden wir die Daten und importieren die benötigten Algorithmen. "
   ]
  },
  {
   "cell_type": "code",
   "execution_count": 1,
   "id": "2d6a73f2-dfbb-4a20-95fe-65a912e4fb14",
   "metadata": {},
   "outputs": [
    {
     "name": "stdout",
     "output_type": "stream",
     "text": [
      ".. _covtype_dataset:\n",
      "\n",
      "Forest covertypes\n",
      "-----------------\n",
      "\n",
      "The samples in this dataset correspond to 30×30m patches of forest in the US,\n",
      "collected for the task of predicting each patch's cover type,\n",
      "i.e. the dominant species of tree.\n",
      "There are seven covertypes, making this a multiclass classification problem.\n",
      "Each sample has 54 features, described on the\n",
      "`dataset's homepage <https://archive.ics.uci.edu/ml/datasets/Covertype>`__.\n",
      "Some of the features are boolean indicators,\n",
      "while others are discrete or continuous measurements.\n",
      "\n",
      "**Data Set Characteristics:**\n",
      "\n",
      "    =================   ============\n",
      "    Classes                        7\n",
      "    Samples total             581012\n",
      "    Dimensionality                54\n",
      "    Features                     int\n",
      "    =================   ============\n",
      "\n",
      ":func:`sklearn.datasets.fetch_covtype` will load the covertype dataset;\n",
      "it returns a dictionary-like 'Bunch' object\n",
      "with the feature matrix in the ``data`` member\n",
      "and the target values in ``target``. If optional argument 'as_frame' is\n",
      "set to 'True', it will return ``data`` and ``target`` as pandas\n",
      "data frame, and there will be an additional member ``frame`` as well.\n",
      "The dataset will be downloaded from the web if necessary.\n",
      "\n"
     ]
    }
   ],
   "source": [
    "import pandas as pd\n",
    "import matplotlib.pyplot as plt\n",
    "\n",
    "from sklearn.datasets import fetch_covtype\n",
    "from sklearn.metrics import precision_recall_fscore_support,matthews_corrcoef\n",
    "from sklearn.model_selection import train_test_split\n",
    "\n",
    "from sklearn.neural_network import MLPClassifier\n",
    "from sklearn.neighbors import KNeighborsClassifier\n",
    "from sklearn.svm import SVC\n",
    "from sklearn.tree import DecisionTreeClassifier\n",
    "from sklearn.ensemble import RandomForestClassifier\n",
    "from sklearn.naive_bayes import GaussianNB\n",
    "from sklearn.linear_model import LogisticRegression\n",
    "\n",
    "forests = fetch_covtype()\n",
    "X = forests.data\n",
    "Y = forests.target\n",
    "\n",
    "print(forests.DESCR)"
   ]
  },
  {
   "cell_type": "markdown",
   "id": "25275160-7fba-4d54-b90b-21cc283d6c1b",
   "metadata": {},
   "source": [
    "Anschließend werfen wir einen Blick auf die Verteilung der Klassen. Man sieht, dass nicht alle Klassen gleich stark vertreten sind. "
   ]
  },
  {
   "cell_type": "code",
   "execution_count": 2,
   "id": "71f42639-9584-460d-9d73-1d287e354d3a",
   "metadata": {},
   "outputs": [
    {
     "data": {
      "image/png": "[encoded data removed]",
      "text/plain": [
       "<Figure size 432x288 with 1 Axes>"
      ]
     },
     "metadata": {
      "needs_background": "light"
     },
     "output_type": "display_data"
    }
   ],
   "source": [
    "plt.figure()\n",
    "plt.hist(Y)\n",
    "plt.ylabel('Anzahl Instanzen')\n",
    "plt.xlabel('Klasse')\n",
    "plt.show()"
   ]
  },
  {
   "cell_type": "markdown",
   "id": "68a1aa36-9c21-4d8c-9251-32fe18091e60",
   "metadata": {},
   "source": [
    "Nun trennen wir die Daten in Trainings- und Testdaten."
   ]
  },
  {
   "cell_type": "code",
   "execution_count": 3,
   "id": "a348159a-a7a9-4151-9471-6eff54a577a6",
   "metadata": {},
   "outputs": [],
   "source": [
    "X_train, X_test, Y_train, Y_test = train_test_split(X, Y, test_size=0.95, random_state=42, stratify=Y)"
   ]
  },
  {
   "cell_type": "markdown",
   "id": "46d287bd-249f-4636-a1a2-0cba2065135a",
   "metadata": {},
   "source": [
    "Um Sicherzustellen, dass das Stratified Sampling wie gewünscht funktioniert hat, überprüfen wir die Verteilung der Klassen in den Trainingsdaten."
   ]
  },
  {
   "cell_type": "code",
   "execution_count": 4,
   "id": "12ae8919-8fab-4ca2-8ddb-c7833fd89677",
   "metadata": {},
   "outputs": [
    {
     "data": {
      "image/png": "[encoded data removed]",
      "text/plain": [
       "<Figure size 432x288 with 1 Axes>"
      ]
     },
     "metadata": {
      "needs_background": "light"
     },
     "output_type": "display_data"
    }
   ],
   "source": [
    "plt.figure()\n",
    "plt.hist(Y_train)\n",
    "plt.ylabel('Anzahl Instanzen')\n",
    "plt.xlabel('Klasse')\n",
    "plt.show()"
   ]
  },
  {
   "cell_type": "markdown",
   "id": "13f0ee21-b65d-4668-bcbe-f0364e16926f",
   "metadata": {},
   "source": [
    "### Trainieren, Testen, Bewerten\n",
    "\n",
    "Nutzen Sie die Trainingsdaten, um die Algorithmen aus diesem Kapitel auszuprobieren. Hierbei werden Sie erhebliche Laufzeitunterschiede feststellen. Einige Algorithmen sind möglicherweise gar nicht für diese Daten geeignet.\n",
    "\n",
    "Finden Sie einen guten Algorithmus für die Daten. Dieser sollte zwei Bedingungen erfüllen:\n",
    "\n",
    "- Das Training und die Vorhersagen sollten in einer akzeptablen Zeit durchführbar sein. Nutzen Sie \"weniger als 10 Minuten\" als Definition von \"akzeptabel\" für diese Übung.\n",
    "- Die Güte, gemessen mit MCC, Recall, Precision und F1-Score, sollte gut sein.\n",
    "\n",
    "Probieren Sie verschiedene Parameter aus, um die Ergebnisse zu verbessern.\n",
    "\n"
   ]
  },
  {
   "cell_type": "markdown",
   "id": "9310f233-8000-45f3-a8b4-81fc8e715c29",
   "metadata": {},
   "source": [
    "Wir trainieren $k$-Nearest-Neighbor-Modelle mit $k=3, 5, 10$, Entscheidungsbäume mit einer maximalen Tiefe von 5, 10, und 20, Random Forests mit 1000 Bäumen und einer Tiefe von 3 und 5, eine logistische Regression, ein Gaussian Naive Bayes Model, sowie MLPs mit drei Hidden Layern, 100 Neuronen je Layer und RelU und tanh als Aktivierungsfunktion. Wir testen also verschieden Parameter, die die Modellkomplexität beeinflussen. Wir trainieren keine SVM, da das Training länger als 10 Minuten dauert. "
   ]
  },
  {
   "cell_type": "code",
   "execution_count": 5,
   "id": "20395183-a024-4fa3-8411-b7e724d91e46",
   "metadata": {},
   "outputs": [
    {
     "name": "stdout",
     "output_type": "stream",
     "text": [
      "Trainiere Nearest Neighbors (k=3)\n",
      "Vorhersagen für Nearest Neighbors (k=3)\n",
      "Trainiere Nearest Neighbors (k=5)\n",
      "Vorhersagen für Nearest Neighbors (k=5)\n",
      "Trainiere Nearest Neighbors (k=10)\n",
      "Vorhersagen für Nearest Neighbors (k=10)\n",
      "Trainiere Entscheidungsbaum (Maximale Tiefe=5)\n",
      "Vorhersagen für Entscheidungsbaum (Maximale Tiefe=5)\n",
      "Trainiere Entscheidungsbaum (Maximale Tiefe=10)\n",
      "Vorhersagen für Entscheidungsbaum (Maximale Tiefe=10)\n",
      "Trainiere Entscheidungsbaum (Maximale Tiefe=20)\n",
      "Vorhersagen für Entscheidungsbaum (Maximale Tiefe=20)\n",
      "Trainiere Random Forest (Maximale Tiefe=3)\n",
      "Vorhersagen für Random Forest (Maximale Tiefe=3)\n"
     ]
    },
    {
     "name": "stderr",
     "output_type": "stream",
     "text": [
      "/home/sherbold/git/data-science-crashkurs/venv/lib/python3.8/site-packages/sklearn/metrics/_classification.py:1245: UndefinedMetricWarning: Precision and F-score are ill-defined and being set to 0.0 in labels with no predicted samples. Use `zero_division` parameter to control this behavior.\n",
      "  _warn_prf(average, modifier, msg_start, len(result))\n"
     ]
    },
    {
     "name": "stdout",
     "output_type": "stream",
     "text": [
      "Trainiere Random Forest (Maximale Tiefe=5)\n",
      "Vorhersagen für Random Forest (Maximale Tiefe=5)\n"
     ]
    },
    {
     "name": "stderr",
     "output_type": "stream",
     "text": [
      "/home/sherbold/git/data-science-crashkurs/venv/lib/python3.8/site-packages/sklearn/metrics/_classification.py:1245: UndefinedMetricWarning: Precision and F-score are ill-defined and being set to 0.0 in labels with no predicted samples. Use `zero_division` parameter to control this behavior.\n",
      "  _warn_prf(average, modifier, msg_start, len(result))\n"
     ]
    },
    {
     "name": "stdout",
     "output_type": "stream",
     "text": [
      "Trainiere Logistische Regression\n"
     ]
    },
    {
     "name": "stderr",
     "output_type": "stream",
     "text": [
      "/home/sherbold/git/data-science-crashkurs/venv/lib/python3.8/site-packages/sklearn/linear_model/_logistic.py:763: ConvergenceWarning: lbfgs failed to converge (status=1):\n",
      "STOP: TOTAL NO. of f AND g EVALUATIONS EXCEEDS LIMIT.\n",
      "\n",
      "Increase the number of iterations (max_iter) or scale the data as shown in:\n",
      "    https://scikit-learn.org/stable/modules/preprocessing.html\n",
      "Please also refer to the documentation for alternative solver options:\n",
      "    https://scikit-learn.org/stable/modules/linear_model.html#logistic-regression\n",
      "  n_iter_i = _check_optimize_result(\n"
     ]
    },
    {
     "name": "stdout",
     "output_type": "stream",
     "text": [
      "Vorhersagen für Logistische Regression\n",
      "Trainiere Gaussian Naive Bayes\n",
      "Vorhersagen für Gaussian Naive Bayes\n",
      "Trainiere MLP (RelU)\n",
      "Vorhersagen für MLP (RelU)\n",
      "Trainiere MLP (tanh)\n",
      "Vorhersagen für MLP (tanh)\n"
     ]
    }
   ],
   "source": [
    "classifiers = [KNeighborsClassifier(3),\n",
    "               KNeighborsClassifier(5),\n",
    "               KNeighborsClassifier(10),\n",
    "               DecisionTreeClassifier(max_depth=5),\n",
    "               DecisionTreeClassifier(max_depth=10),\n",
    "               DecisionTreeClassifier(max_depth=20),\n",
    "               RandomForestClassifier(n_estimators=1000, max_depth=3),\n",
    "               RandomForestClassifier(n_estimators=1000, max_depth=5),\n",
    "               LogisticRegression(max_iter=100000),\n",
    "               GaussianNB(),\n",
    "               MLPClassifier(hidden_layer_sizes=(100, 100, 100),\n",
    "                             max_iter=10000, activation='relu'),\n",
    "               MLPClassifier(hidden_layer_sizes=(100, 100, 100),\n",
    "                             max_iter=10000, activation='tanh')]\n",
    "\n",
    "clf_names = [\"Nearest Neighbors (k=3)\",\n",
    "             \"Nearest Neighbors (k=5)\",\n",
    "             \"Nearest Neighbors (k=10)\",\n",
    "             \"Entscheidungsbaum (Maximale Tiefe=5)\",\n",
    "             \"Entscheidungsbaum (Maximale Tiefe=10)\",\n",
    "             \"Entscheidungsbaum (Maximale Tiefe=20)\",\n",
    "             \"Random Forest (Maximale Tiefe=3)\",\n",
    "             \"Random Forest (Maximale Tiefe=5)\",\n",
    "             \"Logistische Regression\",\n",
    "             \"Gaussian Naive Bayes\",\n",
    "             \"MLP (RelU)\",\n",
    "             \"MLP (tanh)\"]\n",
    "\n",
    "scores_micro = dict()\n",
    "scores_macro = dict()\n",
    "scores_mcc = dict()\n",
    "for name, clf in zip(clf_names, classifiers):\n",
    "    print(\"Trainiere\", name)\n",
    "    clf.fit(X_train, Y_train)\n",
    "    print(\"Vorhersagen für\", name)\n",
    "    Y_pred = clf.predict(X_test)\n",
    "    scores_micro[name] = precision_recall_fscore_support(\n",
    "        Y_test, Y_pred, average=\"micro\")\n",
    "    scores_macro[name] = precision_recall_fscore_support(\n",
    "        Y_test, Y_pred, average=\"macro\")\n",
    "    scores_mcc[name] = matthews_corrcoef(Y_test, Y_pred)\n",
    "\n",
    "scores_micro_df = pd.DataFrame(scores_micro, index=[\n",
    "                               'precision (micro)', 'recall (micro)', 'fscore (micro)', 'support'])\n",
    "scores_micro_df = scores_micro_df[0:3]  # drop support\n",
    "scores_macro_df = pd.DataFrame(scores_macro, index=[\n",
    "                               'precision (macro)', 'recall (macro)', 'fscore (macro)', 'support'])\n",
    "scores_macro_df = scores_macro_df[0:3]\n",
    "scores_df = scores_macro_df.append(scores_micro_df).append(\n",
    "    pd.Series(scores_mcc, name='MCC'))"
   ]
  },
  {
   "cell_type": "markdown",
   "id": "aa49971e-91eb-4fed-9518-fdfc8566a756",
   "metadata": {},
   "source": [
    "Wir bekommen folgenende Ergebnisse."
   ]
  },
  {
   "cell_type": "code",
   "execution_count": 6,
   "id": "d097e0ec-37c9-4994-9fc7-28336484cacc",
   "metadata": {},
   "outputs": [
    {
     "data": {
      "text/html": [
       "<div>\n",
       "<style scoped>\n",
       "    .dataframe tbody tr th:only-of-type {\n",
       "        vertical-align: middle;\n",
       "    }\n",
       "\n",
       "    .dataframe tbody tr th {\n",
       "        vertical-align: top;\n",
       "    }\n",
       "\n",
       "    .dataframe thead th {\n",
       "        text-align: right;\n",
       "    }\n",
       "</style>\n",
       "<table border=\"1\" class=\"dataframe\">\n",
       "  <thead>\n",
       "    <tr style=\"text-align: right;\">\n",
       "      <th></th>\n",
       "      <th>Nearest Neighbors (k=3)</th>\n",
       "      <th>Nearest Neighbors (k=5)</th>\n",
       "      <th>Nearest Neighbors (k=10)</th>\n",
       "      <th>Entscheidungsbaum (Maximale Tiefe=5)</th>\n",
       "      <th>Entscheidungsbaum (Maximale Tiefe=10)</th>\n",
       "      <th>Entscheidungsbaum (Maximale Tiefe=20)</th>\n",
       "      <th>Random Forest (Maximale Tiefe=3)</th>\n",
       "      <th>Random Forest (Maximale Tiefe=5)</th>\n",
       "      <th>Logistische Regression</th>\n",
       "      <th>Gaussian Naive Bayes</th>\n",
       "      <th>MLP (RelU)</th>\n",
       "      <th>MLP (tanh)</th>\n",
       "    </tr>\n",
       "  </thead>\n",
       "  <tbody>\n",
       "    <tr>\n",
       "      <th>precision (macro)</th>\n",
       "      <td>0.791443</td>\n",
       "      <td>0.783258</td>\n",
       "      <td>0.771293</td>\n",
       "      <td>0.642568</td>\n",
       "      <td>0.718091</td>\n",
       "      <td>0.724556</td>\n",
       "      <td>0.279061</td>\n",
       "      <td>0.279792</td>\n",
       "      <td>0.539493</td>\n",
       "      <td>0.382979</td>\n",
       "      <td>0.759572</td>\n",
       "      <td>0.547327</td>\n",
       "    </tr>\n",
       "    <tr>\n",
       "      <th>recall (macro)</th>\n",
       "      <td>0.717409</td>\n",
       "      <td>0.680059</td>\n",
       "      <td>0.593827</td>\n",
       "      <td>0.461665</td>\n",
       "      <td>0.606801</td>\n",
       "      <td>0.693097</td>\n",
       "      <td>0.264859</td>\n",
       "      <td>0.301269</td>\n",
       "      <td>0.443793</td>\n",
       "      <td>0.582227</td>\n",
       "      <td>0.742474</td>\n",
       "      <td>0.366865</td>\n",
       "    </tr>\n",
       "    <tr>\n",
       "      <th>fscore (macro)</th>\n",
       "      <td>0.749952</td>\n",
       "      <td>0.722711</td>\n",
       "      <td>0.653110</td>\n",
       "      <td>0.471700</td>\n",
       "      <td>0.639908</td>\n",
       "      <td>0.707312</td>\n",
       "      <td>0.266357</td>\n",
       "      <td>0.290051</td>\n",
       "      <td>0.469786</td>\n",
       "      <td>0.348337</td>\n",
       "      <td>0.749474</td>\n",
       "      <td>0.369770</td>\n",
       "    </tr>\n",
       "    <tr>\n",
       "      <th>precision (micro)</th>\n",
       "      <td>0.845883</td>\n",
       "      <td>0.831651</td>\n",
       "      <td>0.803548</td>\n",
       "      <td>0.704661</td>\n",
       "      <td>0.755851</td>\n",
       "      <td>0.796439</td>\n",
       "      <td>0.663870</td>\n",
       "      <td>0.679741</td>\n",
       "      <td>0.711475</td>\n",
       "      <td>0.447357</td>\n",
       "      <td>0.822118</td>\n",
       "      <td>0.673414</td>\n",
       "    </tr>\n",
       "    <tr>\n",
       "      <th>recall (micro)</th>\n",
       "      <td>0.845883</td>\n",
       "      <td>0.831651</td>\n",
       "      <td>0.803548</td>\n",
       "      <td>0.704661</td>\n",
       "      <td>0.755851</td>\n",
       "      <td>0.796439</td>\n",
       "      <td>0.663870</td>\n",
       "      <td>0.679741</td>\n",
       "      <td>0.711475</td>\n",
       "      <td>0.447357</td>\n",
       "      <td>0.822118</td>\n",
       "      <td>0.673414</td>\n",
       "    </tr>\n",
       "    <tr>\n",
       "      <th>fscore (micro)</th>\n",
       "      <td>0.845883</td>\n",
       "      <td>0.831651</td>\n",
       "      <td>0.803548</td>\n",
       "      <td>0.704661</td>\n",
       "      <td>0.755851</td>\n",
       "      <td>0.796439</td>\n",
       "      <td>0.663870</td>\n",
       "      <td>0.679741</td>\n",
       "      <td>0.711475</td>\n",
       "      <td>0.447357</td>\n",
       "      <td>0.822118</td>\n",
       "      <td>0.673414</td>\n",
       "    </tr>\n",
       "    <tr>\n",
       "      <th>MCC</th>\n",
       "      <td>0.750441</td>\n",
       "      <td>0.726278</td>\n",
       "      <td>0.678797</td>\n",
       "      <td>0.513249</td>\n",
       "      <td>0.600979</td>\n",
       "      <td>0.671541</td>\n",
       "      <td>0.421128</td>\n",
       "      <td>0.459470</td>\n",
       "      <td>0.524213</td>\n",
       "      <td>0.293639</td>\n",
       "      <td>0.713953</td>\n",
       "      <td>0.466728</td>\n",
       "    </tr>\n",
       "  </tbody>\n",
       "</table>\n",
       "</div>"
      ],
      "text/plain": [
       "                   Nearest Neighbors (k=3)  Nearest Neighbors (k=5)  \\\n",
       "precision (macro)                 0.791443                 0.783258   \n",
       "recall (macro)                    0.717409                 0.680059   \n",
       "fscore (macro)                    0.749952                 0.722711   \n",
       "precision (micro)                 0.845883                 0.831651   \n",
       "recall (micro)                    0.845883                 0.831651   \n",
       "fscore (micro)                    0.845883                 0.831651   \n",
       "MCC                               0.750441                 0.726278   \n",
       "\n",
       "                   Nearest Neighbors (k=10)  \\\n",
       "precision (macro)                  0.771293   \n",
       "recall (macro)                     0.593827   \n",
       "fscore (macro)                     0.653110   \n",
       "precision (micro)                  0.803548   \n",
       "recall (micro)                     0.803548   \n",
       "fscore (micro)                     0.803548   \n",
       "MCC                                0.678797   \n",
       "\n",
       "                   Entscheidungsbaum (Maximale Tiefe=5)  \\\n",
       "precision (macro)                              0.642568   \n",
       "recall (macro)                                 0.461665   \n",
       "fscore (macro)                                 0.471700   \n",
       "precision (micro)                              0.704661   \n",
       "recall (micro)                                 0.704661   \n",
       "fscore (micro)                                 0.704661   \n",
       "MCC                                            0.513249   \n",
       "\n",
       "                   Entscheidungsbaum (Maximale Tiefe=10)  \\\n",
       "precision (macro)                               0.718091   \n",
       "recall (macro)                                  0.606801   \n",
       "fscore (macro)                                  0.639908   \n",
       "precision (micro)                               0.755851   \n",
       "recall (micro)                                  0.755851   \n",
       "fscore (micro)                                  0.755851   \n",
       "MCC                                             0.600979   \n",
       "\n",
       "                   Entscheidungsbaum (Maximale Tiefe=20)  \\\n",
       "precision (macro)                               0.724556   \n",
       "recall (macro)                                  0.693097   \n",
       "fscore (macro)                                  0.707312   \n",
       "precision (micro)                               0.796439   \n",
       "recall (micro)                                  0.796439   \n",
       "fscore (micro)                                  0.796439   \n",
       "MCC                                             0.671541   \n",
       "\n",
       "                   Random Forest (Maximale Tiefe=3)  \\\n",
       "precision (macro)                          0.279061   \n",
       "recall (macro)                             0.264859   \n",
       "fscore (macro)                             0.266357   \n",
       "precision (micro)                          0.663870   \n",
       "recall (micro)                             0.663870   \n",
       "fscore (micro)                             0.663870   \n",
       "MCC                                        0.421128   \n",
       "\n",
       "                   Random Forest (Maximale Tiefe=5)  Logistische Regression  \\\n",
       "precision (macro)                          0.279792                0.539493   \n",
       "recall (macro)                             0.301269                0.443793   \n",
       "fscore (macro)                             0.290051                0.469786   \n",
       "precision (micro)                          0.679741                0.711475   \n",
       "recall (micro)                             0.679741                0.711475   \n",
       "fscore (micro)                             0.679741                0.711475   \n",
       "MCC                                        0.459470                0.524213   \n",
       "\n",
       "                   Gaussian Naive Bayes  MLP (RelU)  MLP (tanh)  \n",
       "precision (macro)              0.382979    0.759572    0.547327  \n",
       "recall (macro)                 0.582227    0.742474    0.366865  \n",
       "fscore (macro)                 0.348337    0.749474    0.369770  \n",
       "precision (micro)              0.447357    0.822118    0.673414  \n",
       "recall (micro)                 0.447357    0.822118    0.673414  \n",
       "fscore (micro)                 0.447357    0.822118    0.673414  \n",
       "MCC                            0.293639    0.713953    0.466728  "
      ]
     },
     "execution_count": 6,
     "metadata": {},
     "output_type": "execute_result"
    }
   ],
   "source": [
    "scores_df"
   ]
  },
  {
   "cell_type": "markdown",
   "id": "6232f020-604e-400f-9289-4c9530808e7d",
   "metadata": {},
   "source": [
    "Der $k$-Nearest-Neighbor-Algorithmus liefert für $k=3$ das beste Ergebnis. Der Entscheidungsbaum und der Random Forest liefern mit größerer Tiefe bessere Ergebnisse. Für das MLP sind die Ergebnisse mit RelU besser als mit tanh. Die logistische Regression und Gaussian Naive Bayes haben mit Abstand die schlechtesten Ergebnisse. Zur weiteren Optimierung betrachten wir jetzt noch kleinere Werte für $k$, sowie größere Tiefen für die Entscheidungsbäume. Durch diese zweite Runde, in der wir die Parameter basierend auf den Ergebnissen optimieren, werden unsere Testdaten zu Validierungsdaten. "
   ]
  },
  {
   "cell_type": "code",
   "execution_count": 7,
   "id": "79e3845c-5599-418b-b488-2a562bc4ac0b",
   "metadata": {},
   "outputs": [
    {
     "name": "stdout",
     "output_type": "stream",
     "text": [
      "Trainiere Nearest Neighbors (k=1)\n",
      "Vorhersagen für Nearest Neighbors (k=1)\n",
      "Trainiere Nearest Neighbors (k=2)\n",
      "Vorhersagen für Nearest Neighbors (k=2)\n",
      "Trainiere Nearest Neighbors (k=3)\n",
      "Vorhersagen für Nearest Neighbors (k=3)\n",
      "Trainiere Entscheidungsbaum (Maximale Tiefe=20)\n",
      "Vorhersagen für Entscheidungsbaum (Maximale Tiefe=20)\n",
      "Trainiere Entscheidungsbaum (Maximale Tiefe=40)\n",
      "Vorhersagen für Entscheidungsbaum (Maximale Tiefe=40)\n",
      "Trainiere Entscheidungsbaum (Maximale Tiefe=60)\n",
      "Vorhersagen für Entscheidungsbaum (Maximale Tiefe=60)\n",
      "Trainiere Random Forest (Maximale Tiefe=5)\n",
      "Vorhersagen für Random Forest (Maximale Tiefe=5)\n"
     ]
    },
    {
     "name": "stderr",
     "output_type": "stream",
     "text": [
      "/home/sherbold/git/data-science-crashkurs/venv/lib/python3.8/site-packages/sklearn/metrics/_classification.py:1245: UndefinedMetricWarning: Precision and F-score are ill-defined and being set to 0.0 in labels with no predicted samples. Use `zero_division` parameter to control this behavior.\n",
      "  _warn_prf(average, modifier, msg_start, len(result))\n"
     ]
    },
    {
     "name": "stdout",
     "output_type": "stream",
     "text": [
      "Trainiere Random Forest (Maximale Tiefe=10)\n",
      "Vorhersagen für Random Forest (Maximale Tiefe=10)\n",
      "Trainiere Random Forest (Maximale Tiefe=20)\n",
      "Vorhersagen für Random Forest (Maximale Tiefe=20)\n",
      "Trainiere MLP (RelU)\n",
      "Vorhersagen für MLP (RelU)\n"
     ]
    }
   ],
   "source": [
    "classifiers = [KNeighborsClassifier(1),\n",
    "               KNeighborsClassifier(2),\n",
    "               KNeighborsClassifier(3),\n",
    "               DecisionTreeClassifier(max_depth=20),\n",
    "               DecisionTreeClassifier(max_depth=40),\n",
    "               DecisionTreeClassifier(max_depth=60),\n",
    "               RandomForestClassifier(n_estimators=1000, max_depth=5),\n",
    "               RandomForestClassifier(n_estimators=1000, max_depth=10),\n",
    "               RandomForestClassifier(n_estimators=1000, max_depth=20),\n",
    "               MLPClassifier(hidden_layer_sizes=(100, 100, 100),\n",
    "                             max_iter=10000, activation='relu')]\n",
    "\n",
    "clf_names = [\"Nearest Neighbors (k=1)\",\n",
    "             \"Nearest Neighbors (k=2)\",\n",
    "             \"Nearest Neighbors (k=3)\",\n",
    "             \"Entscheidungsbaum (Maximale Tiefe=20)\",\n",
    "             \"Entscheidungsbaum (Maximale Tiefe=40)\",\n",
    "             \"Entscheidungsbaum (Maximale Tiefe=60)\",\n",
    "             \"Random Forest (Maximale Tiefe=5)\",\n",
    "             \"Random Forest (Maximale Tiefe=10)\",\n",
    "             \"Random Forest (Maximale Tiefe=20)\",\n",
    "             \"MLP (RelU)\"]\n",
    "\n",
    "scores_micro = dict()\n",
    "scores_macro = dict()\n",
    "scores_mcc = dict()\n",
    "for name, clf in zip(clf_names, classifiers):\n",
    "    print(\"Trainiere\", name)\n",
    "    clf.fit(X_train, Y_train)\n",
    "    print(\"Vorhersagen für\", name)\n",
    "    Y_pred = clf.predict(X_test)\n",
    "    scores_micro[name] = precision_recall_fscore_support(\n",
    "        Y_test, Y_pred, average=\"micro\")\n",
    "    scores_macro[name] = precision_recall_fscore_support(\n",
    "        Y_test, Y_pred, average=\"macro\")\n",
    "    scores_mcc[name] = matthews_corrcoef(Y_test, Y_pred)\n",
    "\n",
    "scores_micro_df = pd.DataFrame(scores_micro, index=[\n",
    "                               'precision (micro)', 'recall (micro)', 'fscore (micro)', 'support'])\n",
    "scores_micro_df = scores_micro_df[0:3]  # drop support\n",
    "scores_macro_df = pd.DataFrame(scores_macro, index=[\n",
    "                               'precision (macro)', 'recall (macro)', 'fscore (macro)', 'support'])\n",
    "scores_macro_df = scores_macro_df[0:3]\n",
    "scores_df = scores_macro_df.append(scores_micro_df).append(\n",
    "    pd.Series(scores_mcc, name='MCC'))"
   ]
  },
  {
   "cell_type": "markdown",
   "id": "ee5a04e6-f29a-447d-9917-286a06076ac6",
   "metadata": {},
   "source": [
    "Jetzt können wir betrachten ob es hierdurch weitere Verbesserungen gab. "
   ]
  },
  {
   "cell_type": "code",
   "execution_count": 8,
   "id": "ca4dc4a6-8c0e-43fa-b68a-1f58f9337574",
   "metadata": {},
   "outputs": [
    {
     "data": {
      "text/html": [
       "<div>\n",
       "<style scoped>\n",
       "    .dataframe tbody tr th:only-of-type {\n",
       "        vertical-align: middle;\n",
       "    }\n",
       "\n",
       "    .dataframe tbody tr th {\n",
       "        vertical-align: top;\n",
       "    }\n",
       "\n",
       "    .dataframe thead th {\n",
       "        text-align: right;\n",
       "    }\n",
       "</style>\n",
       "<table border=\"1\" class=\"dataframe\">\n",
       "  <thead>\n",
       "    <tr style=\"text-align: right;\">\n",
       "      <th></th>\n",
       "      <th>Nearest Neighbors (k=1)</th>\n",
       "      <th>Nearest Neighbors (k=2)</th>\n",
       "      <th>Nearest Neighbors (k=3)</th>\n",
       "      <th>Entscheidungsbaum (Maximale Tiefe=20)</th>\n",
       "      <th>Entscheidungsbaum (Maximale Tiefe=40)</th>\n",
       "      <th>Entscheidungsbaum (Maximale Tiefe=60)</th>\n",
       "      <th>Random Forest (Maximale Tiefe=5)</th>\n",
       "      <th>Random Forest (Maximale Tiefe=10)</th>\n",
       "      <th>Random Forest (Maximale Tiefe=20)</th>\n",
       "      <th>MLP (RelU)</th>\n",
       "    </tr>\n",
       "  </thead>\n",
       "  <tbody>\n",
       "    <tr>\n",
       "      <th>precision (macro)</th>\n",
       "      <td>0.794652</td>\n",
       "      <td>0.820930</td>\n",
       "      <td>0.791443</td>\n",
       "      <td>0.720963</td>\n",
       "      <td>0.714336</td>\n",
       "      <td>0.713199</td>\n",
       "      <td>0.280594</td>\n",
       "      <td>0.827383</td>\n",
       "      <td>0.857865</td>\n",
       "      <td>0.749425</td>\n",
       "    </tr>\n",
       "    <tr>\n",
       "      <th>recall (macro)</th>\n",
       "      <td>0.786020</td>\n",
       "      <td>0.675314</td>\n",
       "      <td>0.717409</td>\n",
       "      <td>0.692542</td>\n",
       "      <td>0.716291</td>\n",
       "      <td>0.714378</td>\n",
       "      <td>0.303150</td>\n",
       "      <td>0.481056</td>\n",
       "      <td>0.676240</td>\n",
       "      <td>0.718030</td>\n",
       "    </tr>\n",
       "    <tr>\n",
       "      <th>fscore (macro)</th>\n",
       "      <td>0.790193</td>\n",
       "      <td>0.729274</td>\n",
       "      <td>0.749952</td>\n",
       "      <td>0.705500</td>\n",
       "      <td>0.715185</td>\n",
       "      <td>0.713701</td>\n",
       "      <td>0.291387</td>\n",
       "      <td>0.525278</td>\n",
       "      <td>0.729374</td>\n",
       "      <td>0.728821</td>\n",
       "    </tr>\n",
       "    <tr>\n",
       "      <th>precision (micro)</th>\n",
       "      <td>0.869547</td>\n",
       "      <td>0.838348</td>\n",
       "      <td>0.845883</td>\n",
       "      <td>0.795624</td>\n",
       "      <td>0.799368</td>\n",
       "      <td>0.798062</td>\n",
       "      <td>0.680730</td>\n",
       "      <td>0.745644</td>\n",
       "      <td>0.836378</td>\n",
       "      <td>0.815498</td>\n",
       "    </tr>\n",
       "    <tr>\n",
       "      <th>recall (micro)</th>\n",
       "      <td>0.869547</td>\n",
       "      <td>0.838348</td>\n",
       "      <td>0.845883</td>\n",
       "      <td>0.795624</td>\n",
       "      <td>0.799368</td>\n",
       "      <td>0.798062</td>\n",
       "      <td>0.680730</td>\n",
       "      <td>0.745644</td>\n",
       "      <td>0.836378</td>\n",
       "      <td>0.815498</td>\n",
       "    </tr>\n",
       "    <tr>\n",
       "      <th>fscore (micro)</th>\n",
       "      <td>0.869547</td>\n",
       "      <td>0.838348</td>\n",
       "      <td>0.845883</td>\n",
       "      <td>0.795624</td>\n",
       "      <td>0.799368</td>\n",
       "      <td>0.798062</td>\n",
       "      <td>0.680730</td>\n",
       "      <td>0.745644</td>\n",
       "      <td>0.836378</td>\n",
       "      <td>0.815498</td>\n",
       "    </tr>\n",
       "    <tr>\n",
       "      <th>MCC</th>\n",
       "      <td>0.790433</td>\n",
       "      <td>0.743195</td>\n",
       "      <td>0.750441</td>\n",
       "      <td>0.670273</td>\n",
       "      <td>0.678036</td>\n",
       "      <td>0.675917</td>\n",
       "      <td>0.461249</td>\n",
       "      <td>0.578563</td>\n",
       "      <td>0.733177</td>\n",
       "      <td>0.702605</td>\n",
       "    </tr>\n",
       "  </tbody>\n",
       "</table>\n",
       "</div>"
      ],
      "text/plain": [
       "                   Nearest Neighbors (k=1)  Nearest Neighbors (k=2)  \\\n",
       "precision (macro)                 0.794652                 0.820930   \n",
       "recall (macro)                    0.786020                 0.675314   \n",
       "fscore (macro)                    0.790193                 0.729274   \n",
       "precision (micro)                 0.869547                 0.838348   \n",
       "recall (micro)                    0.869547                 0.838348   \n",
       "fscore (micro)                    0.869547                 0.838348   \n",
       "MCC                               0.790433                 0.743195   \n",
       "\n",
       "                   Nearest Neighbors (k=3)  \\\n",
       "precision (macro)                 0.791443   \n",
       "recall (macro)                    0.717409   \n",
       "fscore (macro)                    0.749952   \n",
       "precision (micro)                 0.845883   \n",
       "recall (micro)                    0.845883   \n",
       "fscore (micro)                    0.845883   \n",
       "MCC                               0.750441   \n",
       "\n",
       "                   Entscheidungsbaum (Maximale Tiefe=20)  \\\n",
       "precision (macro)                               0.720963   \n",
       "recall (macro)                                  0.692542   \n",
       "fscore (macro)                                  0.705500   \n",
       "precision (micro)                               0.795624   \n",
       "recall (micro)                                  0.795624   \n",
       "fscore (micro)                                  0.795624   \n",
       "MCC                                             0.670273   \n",
       "\n",
       "                   Entscheidungsbaum (Maximale Tiefe=40)  \\\n",
       "precision (macro)                               0.714336   \n",
       "recall (macro)                                  0.716291   \n",
       "fscore (macro)                                  0.715185   \n",
       "precision (micro)                               0.799368   \n",
       "recall (micro)                                  0.799368   \n",
       "fscore (micro)                                  0.799368   \n",
       "MCC                                             0.678036   \n",
       "\n",
       "                   Entscheidungsbaum (Maximale Tiefe=60)  \\\n",
       "precision (macro)                               0.713199   \n",
       "recall (macro)                                  0.714378   \n",
       "fscore (macro)                                  0.713701   \n",
       "precision (micro)                               0.798062   \n",
       "recall (micro)                                  0.798062   \n",
       "fscore (micro)                                  0.798062   \n",
       "MCC                                             0.675917   \n",
       "\n",
       "                   Random Forest (Maximale Tiefe=5)  \\\n",
       "precision (macro)                          0.280594   \n",
       "recall (macro)                             0.303150   \n",
       "fscore (macro)                             0.291387   \n",
       "precision (micro)                          0.680730   \n",
       "recall (micro)                             0.680730   \n",
       "fscore (micro)                             0.680730   \n",
       "MCC                                        0.461249   \n",
       "\n",
       "                   Random Forest (Maximale Tiefe=10)  \\\n",
       "precision (macro)                           0.827383   \n",
       "recall (macro)                              0.481056   \n",
       "fscore (macro)                              0.525278   \n",
       "precision (micro)                           0.745644   \n",
       "recall (micro)                              0.745644   \n",
       "fscore (micro)                              0.745644   \n",
       "MCC                                         0.578563   \n",
       "\n",
       "                   Random Forest (Maximale Tiefe=20)  MLP (RelU)  \n",
       "precision (macro)                           0.857865    0.749425  \n",
       "recall (macro)                              0.676240    0.718030  \n",
       "fscore (macro)                              0.729374    0.728821  \n",
       "precision (micro)                           0.836378    0.815498  \n",
       "recall (micro)                              0.836378    0.815498  \n",
       "fscore (micro)                              0.836378    0.815498  \n",
       "MCC                                         0.733177    0.702605  "
      ]
     },
     "execution_count": 8,
     "metadata": {},
     "output_type": "execute_result"
    }
   ],
   "source": [
    "scores_df"
   ]
  },
  {
   "cell_type": "markdown",
   "id": "31a2a418-0113-4548-87cf-9ca34f484a7c",
   "metadata": {},
   "source": [
    "Der $1$-Nearest-Neighbor-Algorithmus liefert das insgesamt beste Ergebnis für MCC, F-Score (micro und macro), Recall (micro und macro) und Precision (micro). Lediglich bei der Precision (macro) ist das Ergebnis leicht schlechter als beim $2$-Nearest-Neighbor-Model und dem Random Forest mit einer maximalen Tiefe von 10. Man sieht weiterhin, das sich der Entscheidungsbaum mit einer Tiefe größer als 20 nicht weiter verbessert. Insgesamt liefert der Random Forest die zweitbesten Ergebnisse. \n",
    "\n",
    "Wie vergleichen jetzt die Confusion Matrix vom $1$-Nearest Neighbor mit dem Random Forest. "
   ]
  },
  {
   "cell_type": "code",
   "execution_count": 9,
   "id": "eaeea09a-6cb5-4a70-a805-38ee4b4caac3",
   "metadata": {},
   "outputs": [
    {
     "data": {
      "image/png": "[encoded data removed]",
      "text/plain": [
       "<Figure size 864x504 with 4 Axes>"
      ]
     },
     "metadata": {
      "needs_background": "light"
     },
     "output_type": "display_data"
    }
   ],
   "source": [
    "from sklearn.metrics import plot_confusion_matrix\n",
    "\n",
    "fig, axes = plt.subplots(1,2, figsize=(12,7))\n",
    "plot_confusion_matrix(classifiers[0], X_test, Y_test, cmap=plt.cm.Blues, ax=axes[0])\n",
    "plot_confusion_matrix(classifiers[8], X_test, Y_test, cmap=plt.cm.Blues, ax=axes[1])\n",
    "axes[0].set_title(clf_names[0])\n",
    "axes[1].set_title(clf_names[8])\n",
    "plt.show()"
   ]
  },
  {
   "cell_type": "markdown",
   "id": "95840215-8b17-4ce2-ba48-1dc0f5f5d51d",
   "metadata": {},
   "source": [
    "Durch diese Auswertung erkennt man, dass der Unterschied der Modelle auf den Vorhersagen der Klassen 5 und 6 basiert. Bei beiden Klassen ist der $1$-Nearest-Neighbor-Algorithmus deutlich besser als der Random Forest. Für die anderen Klassen ist die Güte vergleichbar. "
   ]
  },
  {
   "cell_type": "markdown",
   "id": "bae837de-7f1b-480d-8033-e7a1fd1461d0",
   "metadata": {},
   "source": [
    "### Automatische Parameterwahl\n",
    "\n",
    "Sie können gute Parameter auch automatisch bestimmen. Nutzen Sie hierfür die [*Grid Search*](https://scikit-learn.org/stable/modules/grid_search.html), bei der alle Paare von Parametern aus einem vorgegebenen Wertebereich kombiniert werden. Beachten Sie, dass der Aufwand hierbei exponentiell mit der Anzahl der Parameter wächst. Probieren Sie die Grid Search aus, um noch bessere Parameter zu finden, ohne dabei länger als eine Stunde Rechenzeit zu investieren."
   ]
  },
  {
   "cell_type": "markdown",
   "id": "99686580-a5fb-4916-8503-702a507d1449",
   "metadata": {},
   "source": [
    "Bei der Parametersuche gibt es extrem viele Möglichkeiten. Hier ein Beispiel zur Optimierung eines Entscheidungsbaums. "
   ]
  },
  {
   "cell_type": "code",
   "execution_count": 10,
   "id": "ecb51841-c0ee-4dae-a75f-4c00152658b3",
   "metadata": {},
   "outputs": [
    {
     "name": "stdout",
     "output_type": "stream",
     "text": [
      "Beste Parameterkombination:\n",
      "\n",
      "{'criterion': 'entropy', 'max_depth': 30, 'min_samples_leaf': 2, 'min_samples_split': 2}\n",
      "Güte auf Testdaten:\n",
      "MCC: 0.676584097796708\n",
      "Micro: (0.7988321659824408, 0.7988321659824408, 0.7988321659824408, None)\n",
      "Macro: (0.7231301458178784, 0.7010745221323633, 0.7108031129397899, None)\n"
     ]
    }
   ],
   "source": [
    "from sklearn.model_selection import GridSearchCV\n",
    "\n",
    "# define a parameter grid\n",
    "param_grid = [\n",
    "  {'criterion': ['gini', 'entropy'], 'max_depth': [10, 20, 30, 40],\n",
    "  'min_samples_split': [2, 10, 100, 1000], 'min_samples_leaf': [2, 10, 100, 1000]},\n",
    " ]\n",
    "\n",
    "# tune the classifier\n",
    "clf = GridSearchCV(DecisionTreeClassifier(), param_grid, scoring=\"f1_macro\")\n",
    "clf.fit(X_train, Y_train)\n",
    "\n",
    "print(\"Beste Parameterkombination:\")\n",
    "print()\n",
    "print(clf.best_params_)\n",
    "\n",
    "print(\"Güte auf Testdaten:\")\n",
    "\n",
    "Y_true, Y_pred = Y_test, clf.predict(X_test)\n",
    "print('MCC:', matthews_corrcoef(Y_test, Y_pred))\n",
    "print('Micro:', precision_recall_fscore_support(Y_test, Y_pred, average=\"micro\"))\n",
    "print('Macro:', precision_recall_fscore_support(Y_test, Y_pred, average=\"macro\"))"
   ]
  }
 ],
 "metadata": {
  "kernelspec": {
   "display_name": "Python 3 (ipykernel)",
   "language": "python",
   "name": "python3"
  },
  "language_info": {
   "codemirror_mode": {
    "name": "ipython",
    "version": 3
   },
   "file_extension": ".py",
   "mimetype": "text/x-python",
   "name": "python",
   "nbconvert_exporter": "python",
   "pygments_lexer": "ipython3",
   "version": "3.8.10"
  }
 },
 "nbformat": 4,
 "nbformat_minor": 5
}
